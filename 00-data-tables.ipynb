{
 "cells": [
  {
   "cell_type": "code",
   "execution_count": 185,
   "id": "32a1581e",
   "metadata": {},
   "outputs": [],
   "source": [
    "import pandas as pd\n",
    "import numpy as np\n",
    "# from Analytical_Functions import * \n",
    "import matplotlib \n",
    "from matplotlib import pyplot as plt"
   ]
  },
  {
   "attachments": {},
   "cell_type": "markdown",
   "id": "33110def",
   "metadata": {},
   "source": [
    "'''\n",
    "what percentage of family income are remittances? by country? by urban/rural?\n",
    " - main_table.remittances_yn, main_table.remesa_amount, main_table.remesa_currency, \n",
    " - looking at cash assistance only\n",
    " - main_table.exp_currency, .exp_monthly_* (monthly expense amounts)\n",
    " - main_table.exp_6months_currency, main_table.exp_6months_*\n",
    " - main_table.hh_income_first* second* third*\n",
    " - main_table.avf)income_consent, _currency, _amount\n",
    " (debt_consent, currency, amount)\n",
    " - main_table.programs_asistencia_gob\n",
    " - main_table. income_per_capita income_per_capita_tier\n",
    "what percentage of family income goes to food, clothing, schooling, housing, farming inputs? by country? by urban/rural?\n",
    " - main_table.remesa_efectivo_uso, main_table.remesa_efectivo_uso_pct (percent of remittance towards x)\n",
    "what percentage of the GDP on average are remittances? by country?\n",
    "What amount in remittances does each country receive?\n",
    "What amount in remittances does the NT receive?\n",
    "\n",
    "- main_table.rural_urban\n",
    "\n",
    "'''"
   ]
  },
  {
   "cell_type": "code",
   "execution_count": 92,
   "id": "5bde0c05",
   "metadata": {},
   "outputs": [],
   "source": [
    "main_df = pd.read_csv('data/main_table.csv')\n",
    "hh_df = pd.read_csv('data/hh_roster.csv')\n",
    "ext_df = pd.read_csv('data/mig_ext_roster.csv')\n",
    "lut = pd.read_csv('data/answer_lookup.csv', usecols=[0,1,2,3], index_col='label')\n",
    "main_lut = pd.read_csv('data/main_lookup.csv', index_col='label')"
   ]
  },
  {
   "cell_type": "code",
   "execution_count": 93,
   "id": "8987c1b9",
   "metadata": {},
   "outputs": [],
   "source": [
    "lut = lut.rename(columns={'text_content':'response'})"
   ]
  },
  {
   "cell_type": "code",
   "execution_count": 227,
   "id": "726166c5",
   "metadata": {},
   "outputs": [],
   "source": [
    "def look_up_response_meanings(label):\n",
    "    print(label)\n",
    "    if main_lut.loc[label,'type'] in ['c','mc','mco']:\n",
    "        return lut.loc[label,['name','response']].set_index('name')\n",
    "    else:\n",
    "        return lut.loc[main_lut.loc[label,'type'], ['name','response']].set_index('name')\n",
    "# look_up_response_meanings(label)\n",
    "def index_with_meaning(df,label):\n",
    "    new_indexes = df.index.astype(int).astype(str)\n",
    "#     print(new_indexes)\n",
    "    if main_lut.loc[label,'type'] in ['c','mc','mco']:\n",
    "        pass\n",
    "    else:\n",
    "#         print(main_lut.loc[label,'type'])\n",
    "        response_meanings = lut.loc[main_lut.loc[label,'type'], ['name','response']].set_index('name')\n",
    "    return response_meanings.loc[new_indexes,'response']"
   ]
  },
  {
   "cell_type": "markdown",
   "id": "2b1f8a9f",
   "metadata": {},
   "source": [
    "#### What percentage of family income are remittances? by country? by urban/rural?"
   ]
  },
  {
   "cell_type": "code",
   "execution_count": 24,
   "id": "a8d8f957",
   "metadata": {},
   "outputs": [],
   "source": [
    "label = 'avg_income_consent'"
   ]
  },
  {
   "cell_type": "code",
   "execution_count": 218,
   "id": "1f0ea36f",
   "metadata": {},
   "outputs": [
    {
     "data": {
      "text/html": [
       "<div>\n",
       "<style scoped>\n",
       "    .dataframe tbody tr th:only-of-type {\n",
       "        vertical-align: middle;\n",
       "    }\n",
       "\n",
       "    .dataframe tbody tr th {\n",
       "        vertical-align: top;\n",
       "    }\n",
       "\n",
       "    .dataframe thead th {\n",
       "        text-align: right;\n",
       "    }\n",
       "</style>\n",
       "<table border=\"1\" class=\"dataframe\">\n",
       "  <thead>\n",
       "    <tr style=\"text-align: right;\">\n",
       "      <th></th>\n",
       "      <th>avg_income_consent</th>\n",
       "    </tr>\n",
       "    <tr>\n",
       "      <th>response</th>\n",
       "      <th></th>\n",
       "    </tr>\n",
       "  </thead>\n",
       "  <tbody>\n",
       "    <tr>\n",
       "      <th>Yes</th>\n",
       "      <td>3083</td>\n",
       "    </tr>\n",
       "    <tr>\n",
       "      <th>Not</th>\n",
       "      <td>1245</td>\n",
       "    </tr>\n",
       "    <tr>\n",
       "      <th>NS / NR</th>\n",
       "      <td>670</td>\n",
       "    </tr>\n",
       "  </tbody>\n",
       "</table>\n",
       "</div>"
      ],
      "text/plain": [
       "          avg_income_consent\n",
       "response                    \n",
       "Yes                     3083\n",
       "Not                     1245\n",
       "NS / NR                  670"
      ]
     },
     "execution_count": 218,
     "metadata": {},
     "output_type": "execute_result"
    }
   ],
   "source": [
    "avg_income_consent_df = main_df.avg_income_consent.value_counts().to_frame()\n",
    "avg_income_consent_df.index = index_with_meaning(avg_income_consent_df,label)\n",
    "avg_income_consent_df"
   ]
  },
  {
   "cell_type": "code",
   "execution_count": 14,
   "id": "3a467d24",
   "metadata": {},
   "outputs": [],
   "source": [
    "#NS/NR (99) means No Sabe/No Responde \n",
    "#(Spanish: Do Not Know/Does Not Answer; surveys)"
   ]
  },
  {
   "cell_type": "code",
   "execution_count": 156,
   "id": "6aaac31a",
   "metadata": {},
   "outputs": [],
   "source": [
    "df = main_df.avg_income_currency.to_frame()\n",
    "df['avg_income_amount'] = main_df.avg_income_amount\n",
    "# Use the conversion rate 1 Guatemalan Quetzals to 0.13 U.S. Dollar.\n",
    "# Use the conversion rate 1 Honduram Lempiras to 0.041 U.S. Dollar."
   ]
  },
  {
   "cell_type": "code",
   "execution_count": 255,
   "id": "12135980",
   "metadata": {},
   "outputs": [],
   "source": [
    "df['avg_income_consent'] = main_df.avg_income_consent"
   ]
  },
  {
   "cell_type": "code",
   "execution_count": 157,
   "id": "e0aa0ff4",
   "metadata": {},
   "outputs": [
    {
     "data": {
      "text/html": [
       "<div>\n",
       "<style scoped>\n",
       "    .dataframe tbody tr th:only-of-type {\n",
       "        vertical-align: middle;\n",
       "    }\n",
       "\n",
       "    .dataframe tbody tr th {\n",
       "        vertical-align: top;\n",
       "    }\n",
       "\n",
       "    .dataframe thead th {\n",
       "        text-align: right;\n",
       "    }\n",
       "</style>\n",
       "<table border=\"1\" class=\"dataframe\">\n",
       "  <thead>\n",
       "    <tr style=\"text-align: right;\">\n",
       "      <th></th>\n",
       "      <th>avg_income_currency</th>\n",
       "      <th>avg_income_amount</th>\n",
       "    </tr>\n",
       "  </thead>\n",
       "  <tbody>\n",
       "    <tr>\n",
       "      <th>0</th>\n",
       "      <td>NaN</td>\n",
       "      <td>NaN</td>\n",
       "    </tr>\n",
       "    <tr>\n",
       "      <th>1</th>\n",
       "      <td>1.0</td>\n",
       "      <td>500.0</td>\n",
       "    </tr>\n",
       "    <tr>\n",
       "      <th>2</th>\n",
       "      <td>1.0</td>\n",
       "      <td>300.0</td>\n",
       "    </tr>\n",
       "    <tr>\n",
       "      <th>3</th>\n",
       "      <td>1.0</td>\n",
       "      <td>350.0</td>\n",
       "    </tr>\n",
       "    <tr>\n",
       "      <th>4</th>\n",
       "      <td>1.0</td>\n",
       "      <td>347.0</td>\n",
       "    </tr>\n",
       "    <tr>\n",
       "      <th>...</th>\n",
       "      <td>...</td>\n",
       "      <td>...</td>\n",
       "    </tr>\n",
       "    <tr>\n",
       "      <th>4993</th>\n",
       "      <td>3.0</td>\n",
       "      <td>260.0</td>\n",
       "    </tr>\n",
       "    <tr>\n",
       "      <th>4994</th>\n",
       "      <td>3.0</td>\n",
       "      <td>247.0</td>\n",
       "    </tr>\n",
       "    <tr>\n",
       "      <th>4995</th>\n",
       "      <td>3.0</td>\n",
       "      <td>650.0</td>\n",
       "    </tr>\n",
       "    <tr>\n",
       "      <th>4996</th>\n",
       "      <td>3.0</td>\n",
       "      <td>65.0</td>\n",
       "    </tr>\n",
       "    <tr>\n",
       "      <th>4997</th>\n",
       "      <td>3.0</td>\n",
       "      <td>195.0</td>\n",
       "    </tr>\n",
       "  </tbody>\n",
       "</table>\n",
       "<p>4998 rows × 2 columns</p>\n",
       "</div>"
      ],
      "text/plain": [
       "      avg_income_currency  avg_income_amount\n",
       "0                     NaN                NaN\n",
       "1                     1.0              500.0\n",
       "2                     1.0              300.0\n",
       "3                     1.0              350.0\n",
       "4                     1.0              347.0\n",
       "...                   ...                ...\n",
       "4993                  3.0              260.0\n",
       "4994                  3.0              247.0\n",
       "4995                  3.0              650.0\n",
       "4996                  3.0               65.0\n",
       "4997                  3.0              195.0\n",
       "\n",
       "[4998 rows x 2 columns]"
      ]
     },
     "execution_count": 157,
     "metadata": {},
     "output_type": "execute_result"
    }
   ],
   "source": [
    "df"
   ]
  },
  {
   "cell_type": "code",
   "execution_count": 151,
   "id": "a7b390e1",
   "metadata": {},
   "outputs": [
    {
     "name": "stdout",
     "output_type": "stream",
     "text": [
      "avg_income_currency\n"
     ]
    },
    {
     "data": {
      "text/html": [
       "<div>\n",
       "<style scoped>\n",
       "    .dataframe tbody tr th:only-of-type {\n",
       "        vertical-align: middle;\n",
       "    }\n",
       "\n",
       "    .dataframe tbody tr th {\n",
       "        vertical-align: top;\n",
       "    }\n",
       "\n",
       "    .dataframe thead th {\n",
       "        text-align: right;\n",
       "    }\n",
       "</style>\n",
       "<table border=\"1\" class=\"dataframe\">\n",
       "  <thead>\n",
       "    <tr style=\"text-align: right;\">\n",
       "      <th></th>\n",
       "      <th>response</th>\n",
       "    </tr>\n",
       "    <tr>\n",
       "      <th>name</th>\n",
       "      <th></th>\n",
       "    </tr>\n",
       "  </thead>\n",
       "  <tbody>\n",
       "    <tr>\n",
       "      <th>1</th>\n",
       "      <td>Dollars</td>\n",
       "    </tr>\n",
       "    <tr>\n",
       "      <th>2</th>\n",
       "      <td>Lempiras</td>\n",
       "    </tr>\n",
       "    <tr>\n",
       "      <th>3</th>\n",
       "      <td>Quetzals</td>\n",
       "    </tr>\n",
       "  </tbody>\n",
       "</table>\n",
       "</div>"
      ],
      "text/plain": [
       "      response\n",
       "name          \n",
       "1      Dollars\n",
       "2     Lempiras\n",
       "3     Quetzals"
      ]
     },
     "execution_count": 151,
     "metadata": {},
     "output_type": "execute_result"
    }
   ],
   "source": [
    "look_up_response_meanings('avg_income_currency')"
   ]
  },
  {
   "cell_type": "code",
   "execution_count": 116,
   "id": "cb41c4dc",
   "metadata": {},
   "outputs": [],
   "source": [
    "def convert_to_usd(currency, amount):\n",
    "    if currency == 1:\n",
    "        return amount\n",
    "    elif currency == 2:\n",
    "        return (.13 * amount)\n",
    "    elif currency == 3:\n",
    "        return (.041 * amount)"
   ]
  },
  {
   "cell_type": "code",
   "execution_count": 158,
   "id": "116f9b23",
   "metadata": {},
   "outputs": [],
   "source": [
    "df['AVG_INCOME_USD'] = df.apply(lambda x: convert_to_usd(x['avg_income_currency'],x['avg_income_amount']),axis=1)"
   ]
  },
  {
   "cell_type": "code",
   "execution_count": 159,
   "id": "abe120d5",
   "metadata": {},
   "outputs": [
    {
     "data": {
      "text/html": [
       "<div>\n",
       "<style scoped>\n",
       "    .dataframe tbody tr th:only-of-type {\n",
       "        vertical-align: middle;\n",
       "    }\n",
       "\n",
       "    .dataframe tbody tr th {\n",
       "        vertical-align: top;\n",
       "    }\n",
       "\n",
       "    .dataframe thead th {\n",
       "        text-align: right;\n",
       "    }\n",
       "</style>\n",
       "<table border=\"1\" class=\"dataframe\">\n",
       "  <thead>\n",
       "    <tr style=\"text-align: right;\">\n",
       "      <th></th>\n",
       "      <th>avg_income_currency</th>\n",
       "      <th>avg_income_amount</th>\n",
       "      <th>AVG_INCOME_USD</th>\n",
       "    </tr>\n",
       "  </thead>\n",
       "  <tbody>\n",
       "    <tr>\n",
       "      <th>0</th>\n",
       "      <td>NaN</td>\n",
       "      <td>NaN</td>\n",
       "      <td>NaN</td>\n",
       "    </tr>\n",
       "    <tr>\n",
       "      <th>1</th>\n",
       "      <td>1.0</td>\n",
       "      <td>500.0</td>\n",
       "      <td>500.000</td>\n",
       "    </tr>\n",
       "    <tr>\n",
       "      <th>2</th>\n",
       "      <td>1.0</td>\n",
       "      <td>300.0</td>\n",
       "      <td>300.000</td>\n",
       "    </tr>\n",
       "    <tr>\n",
       "      <th>3</th>\n",
       "      <td>1.0</td>\n",
       "      <td>350.0</td>\n",
       "      <td>350.000</td>\n",
       "    </tr>\n",
       "    <tr>\n",
       "      <th>4</th>\n",
       "      <td>1.0</td>\n",
       "      <td>347.0</td>\n",
       "      <td>347.000</td>\n",
       "    </tr>\n",
       "    <tr>\n",
       "      <th>...</th>\n",
       "      <td>...</td>\n",
       "      <td>...</td>\n",
       "      <td>...</td>\n",
       "    </tr>\n",
       "    <tr>\n",
       "      <th>4993</th>\n",
       "      <td>3.0</td>\n",
       "      <td>260.0</td>\n",
       "      <td>10.660</td>\n",
       "    </tr>\n",
       "    <tr>\n",
       "      <th>4994</th>\n",
       "      <td>3.0</td>\n",
       "      <td>247.0</td>\n",
       "      <td>10.127</td>\n",
       "    </tr>\n",
       "    <tr>\n",
       "      <th>4995</th>\n",
       "      <td>3.0</td>\n",
       "      <td>650.0</td>\n",
       "      <td>26.650</td>\n",
       "    </tr>\n",
       "    <tr>\n",
       "      <th>4996</th>\n",
       "      <td>3.0</td>\n",
       "      <td>65.0</td>\n",
       "      <td>2.665</td>\n",
       "    </tr>\n",
       "    <tr>\n",
       "      <th>4997</th>\n",
       "      <td>3.0</td>\n",
       "      <td>195.0</td>\n",
       "      <td>7.995</td>\n",
       "    </tr>\n",
       "  </tbody>\n",
       "</table>\n",
       "<p>4998 rows × 3 columns</p>\n",
       "</div>"
      ],
      "text/plain": [
       "      avg_income_currency  avg_income_amount  AVG_INCOME_USD\n",
       "0                     NaN                NaN             NaN\n",
       "1                     1.0              500.0         500.000\n",
       "2                     1.0              300.0         300.000\n",
       "3                     1.0              350.0         350.000\n",
       "4                     1.0              347.0         347.000\n",
       "...                   ...                ...             ...\n",
       "4993                  3.0              260.0          10.660\n",
       "4994                  3.0              247.0          10.127\n",
       "4995                  3.0              650.0          26.650\n",
       "4996                  3.0               65.0           2.665\n",
       "4997                  3.0              195.0           7.995\n",
       "\n",
       "[4998 rows x 3 columns]"
      ]
     },
     "execution_count": 159,
     "metadata": {},
     "output_type": "execute_result"
    }
   ],
   "source": [
    "df"
   ]
  },
  {
   "cell_type": "code",
   "execution_count": 207,
   "id": "377cd6fa",
   "metadata": {},
   "outputs": [
    {
     "name": "stdout",
     "output_type": "stream",
     "text": [
      "Avg Household Income per month among those that consented (n=3083/6165.0) in USD: 121.99. Std: 237.25\n"
     ]
    }
   ],
   "source": [
    "print(f\"Avg Household Income per month among those that consented (n={avg_income_consent_df.loc['Yes','avg_income_consent']}/{df.sum()[0]}) in USD: {np.round(df.AVG_INCOME_USD.mean(),2)}. Std: {np.round(df.AVG_INCOME_USD.std(),2)}\")\n"
   ]
  },
  {
   "cell_type": "code",
   "execution_count": 162,
   "id": "d4e8b614",
   "metadata": {},
   "outputs": [],
   "source": [
    "df['country'] = main_df.country\n",
    "df['rural_urban'] = main_df.rural_urban"
   ]
  },
  {
   "cell_type": "code",
   "execution_count": 163,
   "id": "2f9cbe10",
   "metadata": {},
   "outputs": [
    {
     "data": {
      "text/html": [
       "<div>\n",
       "<style scoped>\n",
       "    .dataframe tbody tr th:only-of-type {\n",
       "        vertical-align: middle;\n",
       "    }\n",
       "\n",
       "    .dataframe tbody tr th {\n",
       "        vertical-align: top;\n",
       "    }\n",
       "\n",
       "    .dataframe thead th {\n",
       "        text-align: right;\n",
       "    }\n",
       "</style>\n",
       "<table border=\"1\" class=\"dataframe\">\n",
       "  <thead>\n",
       "    <tr style=\"text-align: right;\">\n",
       "      <th></th>\n",
       "      <th>avg_income_currency</th>\n",
       "      <th>avg_income_amount</th>\n",
       "      <th>AVG_INCOME_USD</th>\n",
       "      <th>country</th>\n",
       "      <th>rural_urban</th>\n",
       "    </tr>\n",
       "  </thead>\n",
       "  <tbody>\n",
       "    <tr>\n",
       "      <th>0</th>\n",
       "      <td>NaN</td>\n",
       "      <td>NaN</td>\n",
       "      <td>NaN</td>\n",
       "      <td>SLV</td>\n",
       "      <td>2</td>\n",
       "    </tr>\n",
       "    <tr>\n",
       "      <th>1</th>\n",
       "      <td>1.0</td>\n",
       "      <td>500.0</td>\n",
       "      <td>500.000</td>\n",
       "      <td>SLV</td>\n",
       "      <td>2</td>\n",
       "    </tr>\n",
       "    <tr>\n",
       "      <th>2</th>\n",
       "      <td>1.0</td>\n",
       "      <td>300.0</td>\n",
       "      <td>300.000</td>\n",
       "      <td>SLV</td>\n",
       "      <td>2</td>\n",
       "    </tr>\n",
       "    <tr>\n",
       "      <th>3</th>\n",
       "      <td>1.0</td>\n",
       "      <td>350.0</td>\n",
       "      <td>350.000</td>\n",
       "      <td>SLV</td>\n",
       "      <td>2</td>\n",
       "    </tr>\n",
       "    <tr>\n",
       "      <th>4</th>\n",
       "      <td>1.0</td>\n",
       "      <td>347.0</td>\n",
       "      <td>347.000</td>\n",
       "      <td>SLV</td>\n",
       "      <td>2</td>\n",
       "    </tr>\n",
       "    <tr>\n",
       "      <th>...</th>\n",
       "      <td>...</td>\n",
       "      <td>...</td>\n",
       "      <td>...</td>\n",
       "      <td>...</td>\n",
       "      <td>...</td>\n",
       "    </tr>\n",
       "    <tr>\n",
       "      <th>4993</th>\n",
       "      <td>3.0</td>\n",
       "      <td>260.0</td>\n",
       "      <td>10.660</td>\n",
       "      <td>GT</td>\n",
       "      <td>2</td>\n",
       "    </tr>\n",
       "    <tr>\n",
       "      <th>4994</th>\n",
       "      <td>3.0</td>\n",
       "      <td>247.0</td>\n",
       "      <td>10.127</td>\n",
       "      <td>GT</td>\n",
       "      <td>2</td>\n",
       "    </tr>\n",
       "    <tr>\n",
       "      <th>4995</th>\n",
       "      <td>3.0</td>\n",
       "      <td>650.0</td>\n",
       "      <td>26.650</td>\n",
       "      <td>GT</td>\n",
       "      <td>2</td>\n",
       "    </tr>\n",
       "    <tr>\n",
       "      <th>4996</th>\n",
       "      <td>3.0</td>\n",
       "      <td>65.0</td>\n",
       "      <td>2.665</td>\n",
       "      <td>GT</td>\n",
       "      <td>2</td>\n",
       "    </tr>\n",
       "    <tr>\n",
       "      <th>4997</th>\n",
       "      <td>3.0</td>\n",
       "      <td>195.0</td>\n",
       "      <td>7.995</td>\n",
       "      <td>GT</td>\n",
       "      <td>2</td>\n",
       "    </tr>\n",
       "  </tbody>\n",
       "</table>\n",
       "<p>4998 rows × 5 columns</p>\n",
       "</div>"
      ],
      "text/plain": [
       "      avg_income_currency  avg_income_amount  AVG_INCOME_USD country  \\\n",
       "0                     NaN                NaN             NaN     SLV   \n",
       "1                     1.0              500.0         500.000     SLV   \n",
       "2                     1.0              300.0         300.000     SLV   \n",
       "3                     1.0              350.0         350.000     SLV   \n",
       "4                     1.0              347.0         347.000     SLV   \n",
       "...                   ...                ...             ...     ...   \n",
       "4993                  3.0              260.0          10.660      GT   \n",
       "4994                  3.0              247.0          10.127      GT   \n",
       "4995                  3.0              650.0          26.650      GT   \n",
       "4996                  3.0               65.0           2.665      GT   \n",
       "4997                  3.0              195.0           7.995      GT   \n",
       "\n",
       "      rural_urban  \n",
       "0               2  \n",
       "1               2  \n",
       "2               2  \n",
       "3               2  \n",
       "4               2  \n",
       "...           ...  \n",
       "4993            2  \n",
       "4994            2  \n",
       "4995            2  \n",
       "4996            2  \n",
       "4997            2  \n",
       "\n",
       "[4998 rows x 5 columns]"
      ]
     },
     "execution_count": 163,
     "metadata": {},
     "output_type": "execute_result"
    }
   ],
   "source": [
    "df"
   ]
  },
  {
   "cell_type": "code",
   "execution_count": 150,
   "id": "4da5462f",
   "metadata": {},
   "outputs": [
    {
     "name": "stdout",
     "output_type": "stream",
     "text": [
      "rural_urban\n"
     ]
    },
    {
     "data": {
      "text/html": [
       "<div>\n",
       "<style scoped>\n",
       "    .dataframe tbody tr th:only-of-type {\n",
       "        vertical-align: middle;\n",
       "    }\n",
       "\n",
       "    .dataframe tbody tr th {\n",
       "        vertical-align: top;\n",
       "    }\n",
       "\n",
       "    .dataframe thead th {\n",
       "        text-align: right;\n",
       "    }\n",
       "</style>\n",
       "<table border=\"1\" class=\"dataframe\">\n",
       "  <thead>\n",
       "    <tr style=\"text-align: right;\">\n",
       "      <th></th>\n",
       "      <th>response</th>\n",
       "    </tr>\n",
       "    <tr>\n",
       "      <th>name</th>\n",
       "      <th></th>\n",
       "    </tr>\n",
       "  </thead>\n",
       "  <tbody>\n",
       "    <tr>\n",
       "      <th>1</th>\n",
       "      <td>Rural</td>\n",
       "    </tr>\n",
       "    <tr>\n",
       "      <th>2</th>\n",
       "      <td>Urban</td>\n",
       "    </tr>\n",
       "  </tbody>\n",
       "</table>\n",
       "</div>"
      ],
      "text/plain": [
       "     response\n",
       "name         \n",
       "1       Rural\n",
       "2       Urban"
      ]
     },
     "execution_count": 150,
     "metadata": {},
     "output_type": "execute_result"
    }
   ],
   "source": [
    "look_up_response_meanings('rural_urban')"
   ]
  },
  {
   "cell_type": "markdown",
   "id": "9a3c37c6",
   "metadata": {},
   "source": [
    "#### Total amount of Remittances in the NT "
   ]
  },
  {
   "cell_type": "code",
   "execution_count": 164,
   "id": "704b8b00",
   "metadata": {},
   "outputs": [
    {
     "data": {
      "text/plain": [
       "0       0\n",
       "1       1\n",
       "2       0\n",
       "3       0\n",
       "4       0\n",
       "       ..\n",
       "4993    0\n",
       "4994    0\n",
       "4995    0\n",
       "4996    0\n",
       "4997    0\n",
       "Name: remittances_yn, Length: 4998, dtype: int64"
      ]
     },
     "execution_count": 164,
     "metadata": {},
     "output_type": "execute_result"
    }
   ],
   "source": [
    "main_df.remittances_yn"
   ]
  },
  {
   "cell_type": "code",
   "execution_count": 208,
   "id": "19420cb9",
   "metadata": {},
   "outputs": [
    {
     "data": {
      "text/html": [
       "<div>\n",
       "<style scoped>\n",
       "    .dataframe tbody tr th:only-of-type {\n",
       "        vertical-align: middle;\n",
       "    }\n",
       "\n",
       "    .dataframe tbody tr th {\n",
       "        vertical-align: top;\n",
       "    }\n",
       "\n",
       "    .dataframe thead th {\n",
       "        text-align: right;\n",
       "    }\n",
       "</style>\n",
       "<table border=\"1\" class=\"dataframe\">\n",
       "  <thead>\n",
       "    <tr style=\"text-align: right;\">\n",
       "      <th></th>\n",
       "      <th>remittances_yn</th>\n",
       "    </tr>\n",
       "    <tr>\n",
       "      <th>response</th>\n",
       "      <th></th>\n",
       "    </tr>\n",
       "  </thead>\n",
       "  <tbody>\n",
       "    <tr>\n",
       "      <th>Not</th>\n",
       "      <td>3532</td>\n",
       "    </tr>\n",
       "    <tr>\n",
       "      <th>Yes</th>\n",
       "      <td>1447</td>\n",
       "    </tr>\n",
       "    <tr>\n",
       "      <th>NS / NR</th>\n",
       "      <td>19</td>\n",
       "    </tr>\n",
       "  </tbody>\n",
       "</table>\n",
       "</div>"
      ],
      "text/plain": [
       "          remittances_yn\n",
       "response                \n",
       "Not                 3532\n",
       "Yes                 1447\n",
       "NS / NR               19"
      ]
     },
     "execution_count": 208,
     "metadata": {},
     "output_type": "execute_result"
    }
   ],
   "source": [
    "remitt_yn_df = main_df.remittances_yn.value_counts().to_frame()\n",
    "remitt_yn_df.index = index_with_meaning(remitt_yn_df,'remittances_yn')\n",
    "remitt_yn_df"
   ]
  },
  {
   "cell_type": "code",
   "execution_count": 235,
   "id": "e8d6ecae",
   "metadata": {},
   "outputs": [
    {
     "data": {
      "text/plain": [
       "remittances_yn    0\n",
       "dtype: int64"
      ]
     },
     "execution_count": 235,
     "metadata": {},
     "output_type": "execute_result"
    }
   ],
   "source": [
    "main_df.shape[0] - remitt_yn_df.sum()"
   ]
  },
  {
   "cell_type": "code",
   "execution_count": 229,
   "id": "1c65972b",
   "metadata": {},
   "outputs": [
    {
     "data": {
      "text/html": [
       "<div>\n",
       "<style scoped>\n",
       "    .dataframe tbody tr th:only-of-type {\n",
       "        vertical-align: middle;\n",
       "    }\n",
       "\n",
       "    .dataframe tbody tr th {\n",
       "        vertical-align: top;\n",
       "    }\n",
       "\n",
       "    .dataframe thead th {\n",
       "        text-align: right;\n",
       "    }\n",
       "</style>\n",
       "<table border=\"1\" class=\"dataframe\">\n",
       "  <thead>\n",
       "    <tr style=\"text-align: right;\">\n",
       "      <th></th>\n",
       "      <th>remesa_amount_consent</th>\n",
       "    </tr>\n",
       "    <tr>\n",
       "      <th>response</th>\n",
       "      <th></th>\n",
       "    </tr>\n",
       "  </thead>\n",
       "  <tbody>\n",
       "    <tr>\n",
       "      <th>Yes</th>\n",
       "      <td>1027</td>\n",
       "    </tr>\n",
       "    <tr>\n",
       "      <th>Not</th>\n",
       "      <td>271</td>\n",
       "    </tr>\n",
       "    <tr>\n",
       "      <th>NS / NR</th>\n",
       "      <td>117</td>\n",
       "    </tr>\n",
       "  </tbody>\n",
       "</table>\n",
       "</div>"
      ],
      "text/plain": [
       "          remesa_amount_consent\n",
       "response                       \n",
       "Yes                        1027\n",
       "Not                         271\n",
       "NS / NR                     117"
      ]
     },
     "execution_count": 229,
     "metadata": {},
     "output_type": "execute_result"
    }
   ],
   "source": [
    "remitt_consent_df = main_df.remesa_amount_consent.value_counts().to_frame()\n",
    "# remitt_consent_df.index = remitt_consent_df.index.astype(str)\n",
    "remitt_consent_df.index = index_with_meaning(remitt_consent_df,'remesa_amount_consent')\n",
    "remitt_consent_df"
   ]
  },
  {
   "cell_type": "code",
   "execution_count": 234,
   "id": "fb514ffd",
   "metadata": {},
   "outputs": [
    {
     "data": {
      "text/plain": [
       "remesa_amount_consent    3583\n",
       "dtype: int64"
      ]
     },
     "execution_count": 234,
     "metadata": {},
     "output_type": "execute_result"
    }
   ],
   "source": [
    "main_df.shape[0] - remitt_consent_df.sum()"
   ]
  },
  {
   "cell_type": "code",
   "execution_count": 170,
   "id": "30f9e060",
   "metadata": {},
   "outputs": [
    {
     "data": {
      "text/plain": [
       "1027"
      ]
     },
     "execution_count": 170,
     "metadata": {},
     "output_type": "execute_result"
    }
   ],
   "source": [
    "main_df.remesa_currency.count()"
   ]
  },
  {
   "cell_type": "code",
   "execution_count": 172,
   "id": "1b102c3b",
   "metadata": {},
   "outputs": [
    {
     "data": {
      "text/plain": [
       "1027"
      ]
     },
     "execution_count": 172,
     "metadata": {},
     "output_type": "execute_result"
    }
   ],
   "source": [
    "main_df.remesa_amount.count()"
   ]
  },
  {
   "cell_type": "code",
   "execution_count": 237,
   "id": "b0d5e9e4",
   "metadata": {},
   "outputs": [],
   "source": [
    "df['remittances_yn'] = main_df.remittances_yn\n",
    "df['remesa_amount_consent'] = main_df.remesa_amount_consent\n",
    "df['remesa_currency'] = main_df.remesa_currency\n",
    "df['remesa_amount'] = main_df.remesa_amount\n",
    "df['REMESA_AMOUNT_USD'] = df.apply(lambda x: convert_to_usd(x['remesa_currency'],x['remesa_amount']),axis=1)\n"
   ]
  },
  {
   "cell_type": "code",
   "execution_count": 181,
   "id": "d357e171",
   "metadata": {},
   "outputs": [
    {
     "data": {
      "text/plain": [
       "3.0     556\n",
       "4.0     172\n",
       "5.0     149\n",
       "6.0     138\n",
       "2.0     136\n",
       "8.0     127\n",
       "7.0      83\n",
       "1.0      42\n",
       "9.0      24\n",
       "99.0     20\n",
       "Name: remesa_freq, dtype: int64"
      ]
     },
     "execution_count": 181,
     "metadata": {},
     "output_type": "execute_result"
    }
   ],
   "source": [
    "main_df.remesa_freq.value_counts()"
   ]
  },
  {
   "cell_type": "code",
   "execution_count": 238,
   "id": "a3714fda",
   "metadata": {},
   "outputs": [],
   "source": [
    "df['remesa_freq'] = main_df.remesa_freq"
   ]
  },
  {
   "cell_type": "code",
   "execution_count": 179,
   "id": "699ee4de",
   "metadata": {},
   "outputs": [
    {
     "name": "stdout",
     "output_type": "stream",
     "text": [
      "remesa_freq\n"
     ]
    },
    {
     "data": {
      "text/html": [
       "<div>\n",
       "<style scoped>\n",
       "    .dataframe tbody tr th:only-of-type {\n",
       "        vertical-align: middle;\n",
       "    }\n",
       "\n",
       "    .dataframe tbody tr th {\n",
       "        vertical-align: top;\n",
       "    }\n",
       "\n",
       "    .dataframe thead th {\n",
       "        text-align: right;\n",
       "    }\n",
       "</style>\n",
       "<table border=\"1\" class=\"dataframe\">\n",
       "  <thead>\n",
       "    <tr style=\"text-align: right;\">\n",
       "      <th></th>\n",
       "      <th>response</th>\n",
       "    </tr>\n",
       "    <tr>\n",
       "      <th>name</th>\n",
       "      <th></th>\n",
       "    </tr>\n",
       "  </thead>\n",
       "  <tbody>\n",
       "    <tr>\n",
       "      <th>1</th>\n",
       "      <td>Every week or less</td>\n",
       "    </tr>\n",
       "    <tr>\n",
       "      <th>2</th>\n",
       "      <td>Every fifteen days</td>\n",
       "    </tr>\n",
       "    <tr>\n",
       "      <th>3</th>\n",
       "      <td>Each month</td>\n",
       "    </tr>\n",
       "    <tr>\n",
       "      <th>4</th>\n",
       "      <td>Every two months</td>\n",
       "    </tr>\n",
       "    <tr>\n",
       "      <th>5</th>\n",
       "      <td>Every three months</td>\n",
       "    </tr>\n",
       "    <tr>\n",
       "      <th>6</th>\n",
       "      <td>Every six months</td>\n",
       "    </tr>\n",
       "    <tr>\n",
       "      <th>7</th>\n",
       "      <td>Once a year</td>\n",
       "    </tr>\n",
       "    <tr>\n",
       "      <th>8</th>\n",
       "      <td>On extraordinary occasions (celebrations, deat...</td>\n",
       "    </tr>\n",
       "    <tr>\n",
       "      <th>9</th>\n",
       "      <td>Other</td>\n",
       "    </tr>\n",
       "    <tr>\n",
       "      <th>99</th>\n",
       "      <td>NS / NR</td>\n",
       "    </tr>\n",
       "  </tbody>\n",
       "</table>\n",
       "</div>"
      ],
      "text/plain": [
       "                                               response\n",
       "name                                                   \n",
       "1                                    Every week or less\n",
       "2                                    Every fifteen days\n",
       "3                                            Each month\n",
       "4                                      Every two months\n",
       "5                                    Every three months\n",
       "6                                      Every six months\n",
       "7                                           Once a year\n",
       "8     On extraordinary occasions (celebrations, deat...\n",
       "9                                                 Other\n",
       "99                                              NS / NR"
      ]
     },
     "execution_count": 179,
     "metadata": {},
     "output_type": "execute_result"
    }
   ],
   "source": [
    "look_up_response_meanings('remesa_freq')"
   ]
  },
  {
   "cell_type": "code",
   "execution_count": 183,
   "id": "a96e31a9",
   "metadata": {},
   "outputs": [],
   "source": [
    "#want remesa per month (same as income units)"
   ]
  },
  {
   "cell_type": "code",
   "execution_count": 191,
   "id": "c957ef0f",
   "metadata": {},
   "outputs": [
    {
     "data": {
      "image/png": "[encoded data removed]",
      "text/plain": [
       "<Figure size 432x288 with 1 Axes>"
      ]
     },
     "metadata": {
      "needs_background": "light"
     },
     "output_type": "display_data"
    }
   ],
   "source": [
    "plt.scatter(main_df.remesa_amount,main_df.remesa_freq)\n",
    "plt.ylim(0,10)\n",
    "# plt.xlim(0,1000)\n",
    "plt.show()"
   ]
  },
  {
   "cell_type": "code",
   "execution_count": 195,
   "id": "4d7c5eeb",
   "metadata": {},
   "outputs": [],
   "source": [
    "def amount_per_month(amount,freq):\n",
    "    if freq == 1:\n",
    "        return amount * 4.3\n",
    "    elif freq == 2:\n",
    "        return amount * 2\n",
    "    elif freq == 3:\n",
    "        return amount\n",
    "    elif freq == 4 :\n",
    "        return amount / 2\n",
    "    elif freq == 5:\n",
    "        return amount / 3\n",
    "    elif freq == 6:\n",
    "        return amount / 6\n",
    "    elif freq == 7:\n",
    "        return amount / 12\n",
    "    else:\n",
    "        return np.nan #could refine"
   ]
  },
  {
   "cell_type": "code",
   "execution_count": 239,
   "id": "a1671aa9",
   "metadata": {},
   "outputs": [],
   "source": [
    "df['REMESA_AMOUNT_REGPERMONTH'] = df.apply(lambda x: amount_per_month(x['REMESA_AMOUNT_USD'],x['remesa_freq']),axis=1)"
   ]
  },
  {
   "cell_type": "code",
   "execution_count": 240,
   "id": "23a33edb",
   "metadata": {},
   "outputs": [
    {
     "data": {
      "text/html": [
       "<div>\n",
       "<style scoped>\n",
       "    .dataframe tbody tr th:only-of-type {\n",
       "        vertical-align: middle;\n",
       "    }\n",
       "\n",
       "    .dataframe tbody tr th {\n",
       "        vertical-align: top;\n",
       "    }\n",
       "\n",
       "    .dataframe thead th {\n",
       "        text-align: right;\n",
       "    }\n",
       "</style>\n",
       "<table border=\"1\" class=\"dataframe\">\n",
       "  <thead>\n",
       "    <tr style=\"text-align: right;\">\n",
       "      <th></th>\n",
       "      <th>avg_income_currency</th>\n",
       "      <th>avg_income_amount</th>\n",
       "      <th>AVG_INCOME_USD</th>\n",
       "      <th>country</th>\n",
       "      <th>rural_urban</th>\n",
       "      <th>remesa_currency</th>\n",
       "      <th>remesa_amount</th>\n",
       "      <th>REMESA_AMOUNT_USD</th>\n",
       "      <th>remesa_freq</th>\n",
       "      <th>REMESA_AMOUNT_REGPERMONTH</th>\n",
       "      <th>remittances_yn</th>\n",
       "      <th>remesa_amount_consent</th>\n",
       "    </tr>\n",
       "  </thead>\n",
       "  <tbody>\n",
       "    <tr>\n",
       "      <th>0</th>\n",
       "      <td>NaN</td>\n",
       "      <td>NaN</td>\n",
       "      <td>NaN</td>\n",
       "      <td>SLV</td>\n",
       "      <td>2</td>\n",
       "      <td>NaN</td>\n",
       "      <td>NaN</td>\n",
       "      <td>NaN</td>\n",
       "      <td>NaN</td>\n",
       "      <td>NaN</td>\n",
       "      <td>0</td>\n",
       "      <td>NaN</td>\n",
       "    </tr>\n",
       "    <tr>\n",
       "      <th>1</th>\n",
       "      <td>1.0</td>\n",
       "      <td>500.0</td>\n",
       "      <td>500.000</td>\n",
       "      <td>SLV</td>\n",
       "      <td>2</td>\n",
       "      <td>NaN</td>\n",
       "      <td>NaN</td>\n",
       "      <td>NaN</td>\n",
       "      <td>3.0</td>\n",
       "      <td>NaN</td>\n",
       "      <td>1</td>\n",
       "      <td>0.0</td>\n",
       "    </tr>\n",
       "    <tr>\n",
       "      <th>2</th>\n",
       "      <td>1.0</td>\n",
       "      <td>300.0</td>\n",
       "      <td>300.000</td>\n",
       "      <td>SLV</td>\n",
       "      <td>2</td>\n",
       "      <td>NaN</td>\n",
       "      <td>NaN</td>\n",
       "      <td>NaN</td>\n",
       "      <td>NaN</td>\n",
       "      <td>NaN</td>\n",
       "      <td>0</td>\n",
       "      <td>NaN</td>\n",
       "    </tr>\n",
       "    <tr>\n",
       "      <th>3</th>\n",
       "      <td>1.0</td>\n",
       "      <td>350.0</td>\n",
       "      <td>350.000</td>\n",
       "      <td>SLV</td>\n",
       "      <td>2</td>\n",
       "      <td>NaN</td>\n",
       "      <td>NaN</td>\n",
       "      <td>NaN</td>\n",
       "      <td>NaN</td>\n",
       "      <td>NaN</td>\n",
       "      <td>0</td>\n",
       "      <td>NaN</td>\n",
       "    </tr>\n",
       "    <tr>\n",
       "      <th>4</th>\n",
       "      <td>1.0</td>\n",
       "      <td>347.0</td>\n",
       "      <td>347.000</td>\n",
       "      <td>SLV</td>\n",
       "      <td>2</td>\n",
       "      <td>NaN</td>\n",
       "      <td>NaN</td>\n",
       "      <td>NaN</td>\n",
       "      <td>NaN</td>\n",
       "      <td>NaN</td>\n",
       "      <td>0</td>\n",
       "      <td>NaN</td>\n",
       "    </tr>\n",
       "    <tr>\n",
       "      <th>...</th>\n",
       "      <td>...</td>\n",
       "      <td>...</td>\n",
       "      <td>...</td>\n",
       "      <td>...</td>\n",
       "      <td>...</td>\n",
       "      <td>...</td>\n",
       "      <td>...</td>\n",
       "      <td>...</td>\n",
       "      <td>...</td>\n",
       "      <td>...</td>\n",
       "      <td>...</td>\n",
       "      <td>...</td>\n",
       "    </tr>\n",
       "    <tr>\n",
       "      <th>4993</th>\n",
       "      <td>3.0</td>\n",
       "      <td>260.0</td>\n",
       "      <td>10.660</td>\n",
       "      <td>GT</td>\n",
       "      <td>2</td>\n",
       "      <td>NaN</td>\n",
       "      <td>NaN</td>\n",
       "      <td>NaN</td>\n",
       "      <td>NaN</td>\n",
       "      <td>NaN</td>\n",
       "      <td>0</td>\n",
       "      <td>NaN</td>\n",
       "    </tr>\n",
       "    <tr>\n",
       "      <th>4994</th>\n",
       "      <td>3.0</td>\n",
       "      <td>247.0</td>\n",
       "      <td>10.127</td>\n",
       "      <td>GT</td>\n",
       "      <td>2</td>\n",
       "      <td>NaN</td>\n",
       "      <td>NaN</td>\n",
       "      <td>NaN</td>\n",
       "      <td>NaN</td>\n",
       "      <td>NaN</td>\n",
       "      <td>0</td>\n",
       "      <td>NaN</td>\n",
       "    </tr>\n",
       "    <tr>\n",
       "      <th>4995</th>\n",
       "      <td>3.0</td>\n",
       "      <td>650.0</td>\n",
       "      <td>26.650</td>\n",
       "      <td>GT</td>\n",
       "      <td>2</td>\n",
       "      <td>NaN</td>\n",
       "      <td>NaN</td>\n",
       "      <td>NaN</td>\n",
       "      <td>NaN</td>\n",
       "      <td>NaN</td>\n",
       "      <td>0</td>\n",
       "      <td>NaN</td>\n",
       "    </tr>\n",
       "    <tr>\n",
       "      <th>4996</th>\n",
       "      <td>3.0</td>\n",
       "      <td>65.0</td>\n",
       "      <td>2.665</td>\n",
       "      <td>GT</td>\n",
       "      <td>2</td>\n",
       "      <td>NaN</td>\n",
       "      <td>NaN</td>\n",
       "      <td>NaN</td>\n",
       "      <td>NaN</td>\n",
       "      <td>NaN</td>\n",
       "      <td>0</td>\n",
       "      <td>NaN</td>\n",
       "    </tr>\n",
       "    <tr>\n",
       "      <th>4997</th>\n",
       "      <td>3.0</td>\n",
       "      <td>195.0</td>\n",
       "      <td>7.995</td>\n",
       "      <td>GT</td>\n",
       "      <td>2</td>\n",
       "      <td>NaN</td>\n",
       "      <td>NaN</td>\n",
       "      <td>NaN</td>\n",
       "      <td>NaN</td>\n",
       "      <td>NaN</td>\n",
       "      <td>0</td>\n",
       "      <td>NaN</td>\n",
       "    </tr>\n",
       "  </tbody>\n",
       "</table>\n",
       "<p>4998 rows × 12 columns</p>\n",
       "</div>"
      ],
      "text/plain": [
       "      avg_income_currency  avg_income_amount  AVG_INCOME_USD country  \\\n",
       "0                     NaN                NaN             NaN     SLV   \n",
       "1                     1.0              500.0         500.000     SLV   \n",
       "2                     1.0              300.0         300.000     SLV   \n",
       "3                     1.0              350.0         350.000     SLV   \n",
       "4                     1.0              347.0         347.000     SLV   \n",
       "...                   ...                ...             ...     ...   \n",
       "4993                  3.0              260.0          10.660      GT   \n",
       "4994                  3.0              247.0          10.127      GT   \n",
       "4995                  3.0              650.0          26.650      GT   \n",
       "4996                  3.0               65.0           2.665      GT   \n",
       "4997                  3.0              195.0           7.995      GT   \n",
       "\n",
       "      rural_urban  remesa_currency  remesa_amount  REMESA_AMOUNT_USD  \\\n",
       "0               2              NaN            NaN                NaN   \n",
       "1               2              NaN            NaN                NaN   \n",
       "2               2              NaN            NaN                NaN   \n",
       "3               2              NaN            NaN                NaN   \n",
       "4               2              NaN            NaN                NaN   \n",
       "...           ...              ...            ...                ...   \n",
       "4993            2              NaN            NaN                NaN   \n",
       "4994            2              NaN            NaN                NaN   \n",
       "4995            2              NaN            NaN                NaN   \n",
       "4996            2              NaN            NaN                NaN   \n",
       "4997            2              NaN            NaN                NaN   \n",
       "\n",
       "      remesa_freq  REMESA_AMOUNT_REGPERMONTH  remittances_yn  \\\n",
       "0             NaN                        NaN               0   \n",
       "1             3.0                        NaN               1   \n",
       "2             NaN                        NaN               0   \n",
       "3             NaN                        NaN               0   \n",
       "4             NaN                        NaN               0   \n",
       "...           ...                        ...             ...   \n",
       "4993          NaN                        NaN               0   \n",
       "4994          NaN                        NaN               0   \n",
       "4995          NaN                        NaN               0   \n",
       "4996          NaN                        NaN               0   \n",
       "4997          NaN                        NaN               0   \n",
       "\n",
       "      remesa_amount_consent  \n",
       "0                       NaN  \n",
       "1                       0.0  \n",
       "2                       NaN  \n",
       "3                       NaN  \n",
       "4                       NaN  \n",
       "...                     ...  \n",
       "4993                    NaN  \n",
       "4994                    NaN  \n",
       "4995                    NaN  \n",
       "4996                    NaN  \n",
       "4997                    NaN  \n",
       "\n",
       "[4998 rows x 12 columns]"
      ]
     },
     "execution_count": 240,
     "metadata": {},
     "output_type": "execute_result"
    }
   ],
   "source": [
    "df"
   ]
  },
  {
   "cell_type": "code",
   "execution_count": 207,
   "id": "34d57060",
   "metadata": {},
   "outputs": [
    {
     "name": "stdout",
     "output_type": "stream",
     "text": [
      "Avg Household Income per month among those that consented (n=3083/6165.0) in USD: 121.99. Std: 237.25\n"
     ]
    }
   ],
   "source": [
    "print(f\"Avg Household Income per month among those that consented (n={avg_income_consent_df.loc['Yes','avg_income_consent']}/{df.sum()[0]}) in USD: {np.round(df.AVG_INCOME_USD.mean(),2)}. Std: {np.round(df.AVG_INCOME_USD.std(),2)}\")\n"
   ]
  },
  {
   "cell_type": "code",
   "execution_count": 250,
   "id": "b7003b1f",
   "metadata": {},
   "outputs": [
    {
     "name": "stdout",
     "output_type": "stream",
     "text": [
      "Avg remittance amount per month among those that receive remittances, consented to sharing amount, and those that receive somewhat frequently (n=927/4998) in USD: 127.16. Std: 347.72\n"
     ]
    }
   ],
   "source": [
    "print(f\"Avg remittance amount per month among those that receive remittances, consented to sharing amount, and those that receive somewhat frequently (n={df.REMESA_AMOUNT_REGPERMONTH.count()}/{df.shape[0]}) in USD: {np.round(df.REMESA_AMOUNT_REGPERMONTH.mean(),2)}. Std: {np.round(df.REMESA_AMOUNT_REGPERMONTH.std(),2)}\")\n"
   ]
  },
  {
   "cell_type": "code",
   "execution_count": 266,
   "id": "641df7f3",
   "metadata": {},
   "outputs": [
    {
     "data": {
      "text/plain": [
       "6       0.416667\n",
       "12      0.166667\n",
       "13      0.136364\n",
       "21      0.100000\n",
       "23      0.277778\n",
       "          ...   \n",
       "4962    0.857143\n",
       "4967    0.750000\n",
       "4975    2.680247\n",
       "4986    2.800000\n",
       "4989    0.250000\n",
       "Length: 710, dtype: float64"
      ]
     },
     "execution_count": 266,
     "metadata": {},
     "output_type": "execute_result"
    }
   ],
   "source": [
    "#Avg percent of income that is remittance \n",
    "df.loc[(df.remittances_yn == 1) & (df.remesa_amount_consent == 1) & (df.remesa_freq < 8) & (df.avg_income_consent == 1), 'REMESA_AMOUNT_REGPERMONTH'] / df.loc[(df.remittances_yn == 1) & (df.remesa_amount_consent == 1) & (df.remesa_freq < 8) & (df.avg_income_consent == 1), 'AVG_INCOME_USD']"
   ]
  },
  {
   "cell_type": "code",
   "execution_count": 267,
   "id": "50316942",
   "metadata": {},
   "outputs": [
    {
     "data": {
      "text/plain": [
       "2941           inf\n",
       "3702    187.617261\n",
       "4740    117.260788\n",
       "dtype: float64"
      ]
     },
     "execution_count": 267,
     "metadata": {},
     "output_type": "execute_result"
    }
   ],
   "source": [
    "temp.loc[temp > 100]"
   ]
  },
  {
   "cell_type": "code",
   "execution_count": 271,
   "id": "51a8868f",
   "metadata": {},
   "outputs": [
    {
     "data": {
      "text/plain": [
       "avg_income_currency            1.0\n",
       "avg_income_amount              0.0\n",
       "AVG_INCOME_USD                 0.0\n",
       "country                        SLV\n",
       "rural_urban                      1\n",
       "remesa_currency                1.0\n",
       "remesa_amount                100.0\n",
       "REMESA_AMOUNT_USD            100.0\n",
       "remesa_freq                    2.0\n",
       "REMESA_AMOUNT_REGPERMONTH    200.0\n",
       "remittances_yn                   1\n",
       "remesa_amount_consent          1.0\n",
       "avg_income_consent               1\n",
       "Name: 2941, dtype: object"
      ]
     },
     "execution_count": 271,
     "metadata": {},
     "output_type": "execute_result"
    }
   ],
   "source": [
    "df.loc[2941]"
   ]
  },
  {
   "cell_type": "code",
   "execution_count": 272,
   "id": "ccf42ee0",
   "metadata": {},
   "outputs": [],
   "source": [
    "remit_and_consents_df = df.loc[(df.remittances_yn == 1) & (df.remesa_amount_consent == 1) & (df.remesa_freq < 8) & (df.avg_income_consent == 1)]"
   ]
  },
  {
   "cell_type": "code",
   "execution_count": 276,
   "id": "4627acbc",
   "metadata": {},
   "outputs": [],
   "source": [
    "remit_and_consents_df = remit_and_consents_df.drop(index = remit_and_consents_df.loc[remit_and_consents_df['avg_income_amount'] == 0].index)"
   ]
  },
  {
   "cell_type": "code",
   "execution_count": 278,
   "id": "20177053",
   "metadata": {},
   "outputs": [
    {
     "data": {
      "text/plain": [
       "2.0195008279580113"
      ]
     },
     "execution_count": 278,
     "metadata": {},
     "output_type": "execute_result"
    }
   ],
   "source": [
    "(remit_and_consents_df['REMESA_AMOUNT_REGPERMONTH'] / remit_and_consents_df['AVG_INCOME_USD']).mean()"
   ]
  },
  {
   "cell_type": "code",
   "execution_count": 282,
   "id": "ca7bc0a5",
   "metadata": {},
   "outputs": [
    {
     "data": {
      "text/plain": [
       "avg_income_currency            1.0\n",
       "avg_income_amount            240.0\n",
       "AVG_INCOME_USD               240.0\n",
       "country                        SLV\n",
       "rural_urban                      2\n",
       "remesa_currency                1.0\n",
       "remesa_amount                100.0\n",
       "REMESA_AMOUNT_USD            100.0\n",
       "remesa_freq                    3.0\n",
       "REMESA_AMOUNT_REGPERMONTH    100.0\n",
       "remittances_yn                   1\n",
       "remesa_amount_consent          1.0\n",
       "avg_income_consent               1\n",
       "Name: 6, dtype: object"
      ]
     },
     "execution_count": 282,
     "metadata": {},
     "output_type": "execute_result"
    }
   ],
   "source": [
    "remit_and_consents_df.iloc[0]"
   ]
  },
  {
   "cell_type": "code",
   "execution_count": 284,
   "id": "bd06a541",
   "metadata": {},
   "outputs": [
    {
     "data": {
      "text/plain": [
       "avg_income_currency            1.0\n",
       "avg_income_amount            120.0\n",
       "AVG_INCOME_USD               120.0\n",
       "country                        SLV\n",
       "rural_urban                      1\n",
       "remesa_currency                1.0\n",
       "remesa_amount                120.0\n",
       "REMESA_AMOUNT_USD            120.0\n",
       "remesa_freq                    3.0\n",
       "REMESA_AMOUNT_REGPERMONTH    120.0\n",
       "remittances_yn                   1\n",
       "remesa_amount_consent          1.0\n",
       "avg_income_consent               1\n",
       "Name: 703, dtype: object"
      ]
     },
     "execution_count": 284,
     "metadata": {},
     "output_type": "execute_result"
    }
   ],
   "source": [
    "remit_and_consents_df.iloc[100]"
   ]
  },
  {
   "cell_type": "code",
   "execution_count": 285,
   "id": "bcd7dea6",
   "metadata": {},
   "outputs": [
    {
     "data": {
      "text/plain": [
       "0.3600336014733176"
      ]
     },
     "execution_count": 285,
     "metadata": {},
     "output_type": "execute_result"
    }
   ],
   "source": [
    "(remit_and_consents_df['REMESA_AMOUNT_REGPERMONTH'] / (remit_and_consents_df['REMESA_AMOUNT_REGPERMONTH']  + remit_and_consents_df['AVG_INCOME_USD'])).mean()"
   ]
  },
  {
   "cell_type": "code",
   "execution_count": 288,
   "id": "b78eff3d",
   "metadata": {},
   "outputs": [],
   "source": [
    "df.to_csv('vars_of_interest_v1.csv')"
   ]
  },
  {
   "cell_type": "code",
   "execution_count": 290,
   "id": "e77e0bdc",
   "metadata": {},
   "outputs": [
    {
     "data": {
      "text/plain": [
       "SLV    338\n",
       "GT     220\n",
       "HND    151\n",
       "Name: country, dtype: int64"
      ]
     },
     "execution_count": 290,
     "metadata": {},
     "output_type": "execute_result"
    }
   ],
   "source": [
    "remit_and_consents_df.country.value_counts()"
   ]
  },
  {
   "cell_type": "code",
   "execution_count": null,
   "id": "e83f85b2",
   "metadata": {},
   "outputs": [],
   "source": []
  }
 ],
 "metadata": {
  "kernelspec": {
   "display_name": "Python 3 (ipykernel)",
   "language": "python",
   "name": "python3"
  },
  "language_info": {
   "codemirror_mode": {
    "name": "ipython",
    "version": 3
   },
   "file_extension": ".py",
   "mimetype": "text/x-python",
   "name": "python",
   "nbconvert_exporter": "python",
   "pygments_lexer": "ipython3",
   "version": "3.9.6"
  }
 },
 "nbformat": 4,
 "nbformat_minor": 5
}
