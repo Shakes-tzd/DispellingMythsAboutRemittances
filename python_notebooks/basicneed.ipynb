{
 "cells": [
  {
   "cell_type": "code",
   "execution_count": 1,
   "metadata": {},
   "outputs": [],
   "source": [
    "import pandas as pd\n",
    "import numpy as np\n",
    "# from Analytical_Functions import * \n",
    "#import matplotlib \n",
    "import matplotlib.pyplot as plt\n"
   ]
  },
  {
   "cell_type": "code",
   "execution_count": 7,
   "metadata": {},
   "outputs": [
    {
     "name": "stdout",
     "output_type": "stream",
     "text": [
      " hh_roster.csv\t  mig_ext_roster.csv   mig_pend_roster.csv\n",
      " main_table.csv   mig_int_roster.csv  'survey data look-up table.xlsx'\n"
     ]
    }
   ],
   "source": [
    "\n",
    "!ls T06_data"
   ]
  },
  {
   "cell_type": "code",
   "execution_count": 9,
   "metadata": {},
   "outputs": [],
   "source": [
    "main_df = pd.read_csv('T06_data/main_table.csv')\n",
    "hh_df = pd.read_csv('T06_data/hh_roster.csv')\n",
    "ext_df = pd.read_csv('T06_data/mig_ext_roster.csv')\n",
    "lut = pd.read_csv('T06_data/answer_lookup.csv', usecols=[0,1,2,3], index_col='label')\n",
    "main_lut = pd.read_csv('T06_data/main_lookup.csv', index_col='label')"
   ]
  },
  {
   "cell_type": "code",
   "execution_count": 10,
   "metadata": {},
   "outputs": [],
   "source": [
    "lut = lut.rename(columns={'text_content':'response'})"
   ]
  },
  {
   "cell_type": "code",
   "execution_count": null,
   "metadata": {},
   "outputs": [],
   "source": [
    "def look_up_response_meanings(label):\n",
    "    print(label)\n",
    "    if main_lut.loc[label,'type'] in ['c','mc','mco']:\n",
    "        return lut.loc[label,['name','response']].set_index('name')\n",
    "    else:\n",
    "        return lut.loc[main_lut.loc[label,'type'], ['name','response']].set_index('name')\n",
    "# look_up_response_meanings(label)\n",
    "def index_with_meaning(df,label):\n",
    "    new_indexes = df.index.astype(int).astype(str)\n",
    "#     print(new_indexes)\n",
    "    if main_lut.loc[label,'type'] in ['c','mc','mco']:\n",
    "        pass\n",
    "    else:\n",
    "#         print(main_lut.loc[label,'type'])\n",
    "        response_meanings = lut.loc[main_lut.loc[label,'type'], ['name','response']].set_index('name')\n",
    "    return response_meanings.loc[new_indexes,'response']"
   ]
  }
 ],
 "metadata": {
  "kernelspec": {
   "display_name": "Python 3",
   "language": "python",
   "name": "python3"
  },
  "language_info": {
   "codemirror_mode": {
    "name": "ipython",
    "version": 3
   },
   "file_extension": ".py",
   "mimetype": "text/x-python",
   "name": "python",
   "nbconvert_exporter": "python",
   "pygments_lexer": "ipython3",
   "version": "3.8.6"
  },
  "orig_nbformat": 4
 },
 "nbformat": 4,
 "nbformat_minor": 2
}
